{
 "cells": [
  {
   "cell_type": "code",
   "execution_count": 32,
   "id": "1b766692",
   "metadata": {},
   "outputs": [],
   "source": [
    "def capitalize(sentence):\n",
    "    list1 = sentence.split(\",\") ##Enter sequence of sentences seperated by commas\n",
    "    for i in list1:\n",
    "        sentence1 = i.upper()\n",
    "        print(sentence1)"
   ]
  },
  {
   "cell_type": "code",
   "execution_count": 33,
   "id": "73754efc",
   "metadata": {},
   "outputs": [
    {
     "name": "stdout",
     "output_type": "stream",
     "text": [
      "I AM JAYASANKA\n",
      "I AM FROM GAMPAHA\n"
     ]
    }
   ],
   "source": [
    "capitalize('I am jayasanka,I am from gampaha')"
   ]
  }
 ],
 "metadata": {
  "kernelspec": {
   "display_name": "Python 3 (ipykernel)",
   "language": "python",
   "name": "python3"
  },
  "language_info": {
   "codemirror_mode": {
    "name": "ipython",
    "version": 3
   },
   "file_extension": ".py",
   "mimetype": "text/x-python",
   "name": "python",
   "nbconvert_exporter": "python",
   "pygments_lexer": "ipython3",
   "version": "3.9.7"
  }
 },
 "nbformat": 4,
 "nbformat_minor": 5
}
